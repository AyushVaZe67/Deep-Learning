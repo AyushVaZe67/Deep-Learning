{
 "cells": [
  {
   "cell_type": "code",
   "execution_count": 13,
   "id": "cd135ba6-3825-467c-ae7e-f9bd58641ff9",
   "metadata": {},
   "outputs": [],
   "source": [
    "import pandas as pd\n",
    "import numpy as np\n",
    "from sklearn.model_selection import train_test_split\n",
    "from sklearn.preprocessing import LabelEncoder, StandardScaler\n",
    "from sklearn.ensemble import RandomForestClassifier\n",
    "from sklearn.metrics import accuracy_score, classification_report"
   ]
  },
  {
   "cell_type": "code",
   "execution_count": 3,
   "id": "a22223e2-df2e-4898-9b0f-d14e2eadb447",
   "metadata": {},
   "outputs": [],
   "source": [
    "df = pd.read_csv('careermitra_dataset.csv')"
   ]
  },
  {
   "cell_type": "code",
   "execution_count": 11,
   "id": "af02ee82-379c-4c14-b3d3-69e777a72674",
   "metadata": {},
   "outputs": [],
   "source": [
    "target_column = \"Suggested Job Role\"\n",
    "X = df.drop(columns=[target_column])\n",
    "y = df[target_column]"
   ]
  },
  {
   "cell_type": "code",
   "execution_count": 14,
   "id": "da894c8c-a5eb-4693-87d3-8a72205bb4de",
   "metadata": {},
   "outputs": [],
   "source": [
    "# Encode target variable\n",
    "label_encoder = LabelEncoder()\n",
    "y = label_encoder.fit_transform(y)\n",
    "\n",
    "# Identify categorical and numerical columns\n",
    "categorical_cols = X.select_dtypes(include=['object']).columns\n",
    "numerical_cols = X.select_dtypes(include=['int64', 'float64']).columns\n",
    "\n",
    "# Encode categorical columns\n",
    "X_encoded = X.copy()\n",
    "for col in categorical_cols:\n",
    "    X_encoded[col] = LabelEncoder().fit_transform(X[col])\n",
    "\n",
    "# Scale numerical features\n",
    "scaler = StandardScaler()\n",
    "X_encoded[numerical_cols] = scaler.fit_transform(X_encoded[numerical_cols])\n",
    "\n",
    "# Split data into train and test sets\n",
    "X_train, X_test, y_train, y_test = train_test_split(X_encoded, y, test_size=0.2, random_state=42)"
   ]
  },
  {
   "cell_type": "code",
   "execution_count": 15,
   "id": "ab464439-2eaa-41c5-8afd-a57179054e09",
   "metadata": {},
   "outputs": [],
   "source": [
    "model = RandomForestClassifier(n_estimators=100, random_state=42)\n",
    "model.fit(X_train, y_train)\n",
    "\n",
    "# Make predictions\n",
    "y_pred = model.predict(X_test)"
   ]
  },
  {
   "cell_type": "code",
   "execution_count": 16,
   "id": "43ed9a7e-0010-465b-ab66-34683bf5ecf7",
   "metadata": {},
   "outputs": [
    {
     "name": "stdout",
     "output_type": "stream",
     "text": [
      "Model Accuracy: 0.03\n"
     ]
    }
   ],
   "source": [
    "accuracy = accuracy_score(y_test, y_pred)\n",
    "print(f\"Model Accuracy: {accuracy:.2f}\")"
   ]
  },
  {
   "cell_type": "code",
   "execution_count": 17,
   "id": "88653ec1-ccc8-452e-8395-b7f8b2dc047e",
   "metadata": {},
   "outputs": [
    {
     "name": "stdout",
     "output_type": "stream",
     "text": [
      "Classification Report:\n",
      "                                           precision    recall  f1-score   support\n",
      "\n",
      "                   Applications Developer       0.05      0.05      0.05       115\n",
      "            Business Intelligence Analyst       0.02      0.02      0.02        97\n",
      "                 Business Systems Analyst       0.01      0.02      0.01       123\n",
      "                     CRM Business Analyst       0.02      0.03      0.02       104\n",
      "                  CRM Technical Developer       0.01      0.01      0.01       100\n",
      "                           Data Architect       0.05      0.05      0.05       115\n",
      "                   Database Administrator       0.02      0.02      0.02       122\n",
      "                       Database Developer       0.03      0.04      0.03       112\n",
      "                         Database Manager       0.03      0.02      0.03       122\n",
      "                              Design & UX       0.04      0.04      0.04       122\n",
      "                       E-Commerce Analyst       0.02      0.02      0.02       112\n",
      "             Information Security Analyst       0.03      0.03      0.03       103\n",
      "           Information Technology Auditor       0.04      0.03      0.03       113\n",
      "           Information Technology Manager       0.02      0.02      0.02       120\n",
      "            Mobile Applications Developer       0.05      0.03      0.03       112\n",
      "                         Network Engineer       0.01      0.01      0.01       115\n",
      "           Network Security Administrator       0.04      0.19      0.07       214\n",
      "                Network Security Engineer       0.02      0.02      0.02       130\n",
      "                     Portal Administrator       0.01      0.01      0.01       120\n",
      "                       Programmer Analyst       0.05      0.02      0.03       112\n",
      "                          Project Manager       0.05      0.03      0.04       120\n",
      "              Quality Assurance Associate       0.02      0.01      0.01       133\n",
      "                       Software Developer       0.03      0.03      0.03       104\n",
      "                        Software Engineer       0.03      0.02      0.02       114\n",
      "Software Quality Assurance (QA) / Testing       0.03      0.02      0.02       115\n",
      "                Software Systems Engineer       0.07      0.03      0.04       130\n",
      "                      Solutions Architect       0.02      0.01      0.01       126\n",
      "                          Systems Analyst       0.01      0.01      0.01        94\n",
      "           Systems Security Administrator       0.05      0.03      0.04       108\n",
      "                       Technical Engineer       0.03      0.02      0.02       114\n",
      "Technical Services/Help Desk/Tech Support       0.02      0.01      0.01       127\n",
      "                        Technical Support       0.03      0.02      0.02       117\n",
      "                              UX Designer       0.04      0.03      0.03        97\n",
      "                            Web Developer       0.06      0.03      0.04       118\n",
      "\n",
      "                                 accuracy                           0.03      4000\n",
      "                                macro avg       0.03      0.03      0.03      4000\n",
      "                             weighted avg       0.03      0.03      0.03      4000\n",
      "\n"
     ]
    }
   ],
   "source": [
    "print(\"Classification Report:\")\n",
    "print(classification_report(y_test, y_pred, target_names=label_encoder.classes_))"
   ]
  },
  {
   "cell_type": "code",
   "execution_count": null,
   "id": "45d1dda9-48b3-4683-a1df-924eeaee544e",
   "metadata": {},
   "outputs": [],
   "source": []
  }
 ],
 "metadata": {
  "kernelspec": {
   "display_name": "Python 3 (ipykernel)",
   "language": "python",
   "name": "python3"
  },
  "language_info": {
   "codemirror_mode": {
    "name": "ipython",
    "version": 3
   },
   "file_extension": ".py",
   "mimetype": "text/x-python",
   "name": "python",
   "nbconvert_exporter": "python",
   "pygments_lexer": "ipython3",
   "version": "3.12.9"
  }
 },
 "nbformat": 4,
 "nbformat_minor": 5
}
