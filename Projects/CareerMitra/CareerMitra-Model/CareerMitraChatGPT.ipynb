{
 "cells": [
  {
   "cell_type": "code",
   "execution_count": 1,
   "id": "9c5a4a86-43a8-46f1-852b-37afeae65476",
   "metadata": {},
   "outputs": [
    {
     "name": "stdout",
     "output_type": "stream",
     "text": [
      "Model and encoders exported successfully.\n"
     ]
    }
   ],
   "source": [
    "# train_and_export_model.py\n",
    "\n",
    "import pandas as pd\n",
    "import pickle\n",
    "from sklearn.model_selection import train_test_split\n",
    "from sklearn.preprocessing import OneHotEncoder, StandardScaler, LabelEncoder\n",
    "from sklearn.neural_network import MLPClassifier\n",
    "from imblearn.over_sampling import RandomOverSampler\n",
    "from scipy import sparse\n",
    "\n",
    "# Load the dataset\n",
    "data = pd.read_csv(\"careermitra_dataset.csv\")\n",
    "\n",
    "# Separate features and target\n",
    "X_raw = data.drop(columns=['Suggested Job Role'])\n",
    "y_raw = data['Suggested Job Role']\n",
    "\n",
    "# Encode categorical and numerical features\n",
    "categorical_cols = X_raw.select_dtypes(include='object').columns\n",
    "numerical_cols = X_raw.select_dtypes(exclude='object').columns\n",
    "\n",
    "encoder = OneHotEncoder(sparse_output=True, handle_unknown='ignore')\n",
    "X_encoded = encoder.fit_transform(X_raw[categorical_cols])\n",
    "\n",
    "X_combined = sparse.hstack([X_raw[numerical_cols], X_encoded])\n",
    "\n",
    "scaler = StandardScaler(with_mean=False)\n",
    "X_scaled = scaler.fit_transform(X_combined)\n",
    "\n",
    "# Encode target\n",
    "label_encoder = LabelEncoder()\n",
    "y_encoded = label_encoder.fit_transform(y_raw)\n",
    "\n",
    "# Balance the data\n",
    "ros = RandomOverSampler(random_state=42)\n",
    "X_resampled, y_resampled = ros.fit_resample(X_scaled, y_encoded)\n",
    "\n",
    "# Split into training and testing\n",
    "X_train, X_test, y_train, y_test = train_test_split(X_resampled, y_resampled, test_size=0.2, random_state=42)\n",
    "\n",
    "# Train MLP Classifier\n",
    "model = MLPClassifier(\n",
    "    activation='tanh',\n",
    "    hidden_layer_sizes=(250, 250, 250),\n",
    "    solver='adam',\n",
    "    max_iter=300,\n",
    "    random_state=42\n",
    ")\n",
    "model.fit(X_train, y_train)\n",
    "\n",
    "# Save model and encoders\n",
    "with open(\"mlp_model.pkl\", \"wb\") as f:\n",
    "    pickle.dump(model, f)\n",
    "with open(\"encoder.pkl\", \"wb\") as f:\n",
    "    pickle.dump(encoder, f)\n",
    "with open(\"scaler.pkl\", \"wb\") as f:\n",
    "    pickle.dump(scaler, f)\n",
    "with open(\"label_encoder.pkl\", \"wb\") as f:\n",
    "    pickle.dump(label_encoder, f)\n",
    "\n",
    "print(\"Model and encoders exported successfully.\")\n"
   ]
  },
  {
   "cell_type": "code",
   "execution_count": null,
   "id": "89b24f89-682a-4d5b-be41-016df028caf8",
   "metadata": {},
   "outputs": [],
   "source": []
  }
 ],
 "metadata": {
  "kernelspec": {
   "display_name": "Python 3 (ipykernel)",
   "language": "python",
   "name": "python3"
  },
  "language_info": {
   "codemirror_mode": {
    "name": "ipython",
    "version": 3
   },
   "file_extension": ".py",
   "mimetype": "text/x-python",
   "name": "python",
   "nbconvert_exporter": "python",
   "pygments_lexer": "ipython3",
   "version": "3.12.9"
  }
 },
 "nbformat": 4,
 "nbformat_minor": 5
}
