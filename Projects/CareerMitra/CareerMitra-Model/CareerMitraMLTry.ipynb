{
 "cells": [
  {
   "cell_type": "code",
   "execution_count": 1,
   "id": "c059029d-1601-44ff-8634-3d27fa011fbc",
   "metadata": {},
   "outputs": [],
   "source": [
    "import pandas as pd\n",
    "from sklearn.model_selection import train_test_split\n",
    "from sklearn.preprocessing import StandardScaler, LabelEncoder\n",
    "from sklearn.ensemble import RandomForestClassifier\n",
    "from sklearn.metrics import classification_report, confusion_matrix, accuracy_score"
   ]
  },
  {
   "cell_type": "code",
   "execution_count": 4,
   "id": "24ed4059-ed41-4227-aa65-ed8ebc67b288",
   "metadata": {},
   "outputs": [],
   "source": [
    "df = pd.read_csv(\"careermitra_dataset.csv\")"
   ]
  },
  {
   "cell_type": "code",
   "execution_count": 15,
   "id": "60f21f0b-1593-45a7-ac7e-358fdbb9b0f3",
   "metadata": {},
   "outputs": [],
   "source": [
    "def map_job_roles(role):\n",
    "    if 'Developer' in role or 'Engineer' in role:\n",
    "        return 'Developer'\n",
    "    elif 'Analyst' in role:\n",
    "        return 'Analyst'\n",
    "    elif 'Manager' in role:\n",
    "        return 'Management'\n",
    "    elif 'Support' in role or 'Help Desk' in role:\n",
    "        return 'Support'\n",
    "    elif 'QA' in role or 'Testing' in role:\n",
    "        return 'Testing'\n",
    "    elif 'Design' in role or 'UX' in role:\n",
    "        return 'Design'\n",
    "    elif 'Admin' in role:\n",
    "        return 'Administrator'\n",
    "    else:\n",
    "        return 'Others'\n",
    "\n",
    "df['JobCategory'] = df['Suggested Job Role'].apply(map_job_roles)"
   ]
  },
  {
   "cell_type": "code",
   "execution_count": 16,
   "id": "cb55cc74-b293-4b35-b821-634c38b664b5",
   "metadata": {},
   "outputs": [],
   "source": [
    "# Select relevant features and label\n",
    "features = [\n",
    "    'Acedamic percentage in Operating Systems',\n",
    "    'percentage in Algorithms',\n",
    "    'Percentage in Programming Concepts',\n",
    "    'Percentage in Software Engineering',\n",
    "    'Percentage in Computer Networks',\n",
    "    'Percentage in Electronics Subjects',\n",
    "    'Percentage in Computer Architecture',\n",
    "    'Percentage in Mathematics',\n",
    "    'Percentage in Communication skills'\n",
    "]\n",
    "X = df[features]\n",
    "y = df['JobCategory']"
   ]
  },
  {
   "cell_type": "code",
   "execution_count": 17,
   "id": "02f166f4-a7ab-4897-8eca-37f46da83ec8",
   "metadata": {},
   "outputs": [],
   "source": [
    "le = LabelEncoder()\n",
    "y_encoded = le.fit_transform(y)"
   ]
  },
  {
   "cell_type": "code",
   "execution_count": 18,
   "id": "df55bc20-cec5-4590-a906-1736f3944780",
   "metadata": {},
   "outputs": [],
   "source": [
    "X_train, X_test, y_train, y_test = train_test_split(X, y_encoded, test_size=0.2, random_state=42)\n"
   ]
  },
  {
   "cell_type": "code",
   "execution_count": 19,
   "id": "7eedc2f6-3514-4eaf-98ae-6f6e29d1bd8c",
   "metadata": {},
   "outputs": [],
   "source": [
    "# Feature scaling\n",
    "scaler = StandardScaler()\n",
    "X_train_scaled = scaler.fit_transform(X_train)\n",
    "X_test_scaled = scaler.transform(X_test)"
   ]
  },
  {
   "cell_type": "code",
   "execution_count": null,
   "id": "6984b847-f76b-45ac-a11e-78c0b56460c9",
   "metadata": {},
   "outputs": [],
   "source": [
    "rf = RandomForestClassifier(n_estimators=200, random_state=42)\n",
    "rf.fit(X_train_scaled, y_train)"
   ]
  },
  {
   "cell_type": "code",
   "execution_count": null,
   "id": "b9201f99-ab6f-42a7-b60f-ad6b33db21e2",
   "metadata": {},
   "outputs": [],
   "source": [
    "y_pred = rf.predict(X_test_scaled)"
   ]
  },
  {
   "cell_type": "code",
   "execution_count": 12,
   "id": "8d9e1c2b-7a20-4b6e-b671-bd5f7705cb34",
   "metadata": {},
   "outputs": [
    {
     "name": "stdout",
     "output_type": "stream",
     "text": [
      "Accuracy Score: 0.03425\n",
      "\n",
      "Classification Report:\n",
      "                                            precision    recall  f1-score   support\n",
      "\n",
      "                   Applications Developer       0.02      0.02      0.02       115\n",
      "            Business Intelligence Analyst       0.00      0.00      0.00        97\n",
      "                 Business Systems Analyst       0.04      0.04      0.04       123\n",
      "                     CRM Business Analyst       0.01      0.02      0.02       104\n",
      "                  CRM Technical Developer       0.00      0.00      0.00       100\n",
      "                           Data Architect       0.02      0.02      0.02       115\n",
      "                   Database Administrator       0.05      0.05      0.05       122\n",
      "                       Database Developer       0.01      0.01      0.01       112\n",
      "                         Database Manager       0.05      0.04      0.05       122\n",
      "                              Design & UX       0.01      0.01      0.01       122\n",
      "                       E-Commerce Analyst       0.04      0.03      0.03       112\n",
      "             Information Security Analyst       0.03      0.02      0.02       103\n",
      "           Information Technology Auditor       0.02      0.02      0.02       113\n",
      "           Information Technology Manager       0.02      0.02      0.02       120\n",
      "            Mobile Applications Developer       0.04      0.03      0.03       112\n",
      "                         Network Engineer       0.04      0.04      0.04       115\n",
      "           Network Security Administrator       0.06      0.22      0.09       214\n",
      "                Network Security Engineer       0.05      0.04      0.04       130\n",
      "                     Portal Administrator       0.03      0.03      0.03       120\n",
      "                       Programmer Analyst       0.03      0.02      0.02       112\n",
      "                          Project Manager       0.03      0.03      0.03       120\n",
      "              Quality Assurance Associate       0.04      0.02      0.03       133\n",
      "                       Software Developer       0.06      0.06      0.06       104\n",
      "                        Software Engineer       0.02      0.02      0.02       114\n",
      "Software Quality Assurance (QA) / Testing       0.05      0.03      0.04       115\n",
      "                Software Systems Engineer       0.04      0.02      0.03       130\n",
      "                      Solutions Architect       0.03      0.02      0.02       126\n",
      "                          Systems Analyst       0.00      0.00      0.00        94\n",
      "           Systems Security Administrator       0.00      0.00      0.00       108\n",
      "                       Technical Engineer       0.07      0.04      0.06       114\n",
      "Technical Services/Help Desk/Tech Support       0.02      0.02      0.02       127\n",
      "                        Technical Support       0.03      0.03      0.03       117\n",
      "                              UX Designer       0.03      0.03      0.03        97\n",
      "                            Web Developer       0.01      0.01      0.01       118\n",
      "\n",
      "                                 accuracy                           0.03      4000\n",
      "                                macro avg       0.03      0.03      0.03      4000\n",
      "                             weighted avg       0.03      0.03      0.03      4000\n",
      "\n"
     ]
    }
   ],
   "source": [
    "print(\"Accuracy Score:\", accuracy_score(y_test, y_pred))\n",
    "print(\"\\nClassification Report:\\n\", classification_report(y_test, y_pred, target_names=le.classes_))"
   ]
  },
  {
   "cell_type": "code",
   "execution_count": 14,
   "id": "c5a49cdb-5512-4903-b116-dc556f33dc08",
   "metadata": {},
   "outputs": [
    {
     "name": "stdout",
     "output_type": "stream",
     "text": [
      "Suggested Job Role\n",
      "Network Security Administrator               1112\n",
      "Network Security Engineer                     630\n",
      "Network Engineer                              621\n",
      "Project Manager                               602\n",
      "Database Administrator                        593\n",
      "Portal Administrator                          593\n",
      "Information Technology Manager                591\n",
      "Software Engineer                             590\n",
      "UX Designer                                   589\n",
      "Design & UX                                   588\n",
      "Software Developer                            587\n",
      "CRM Business Analyst                          584\n",
      "Business Systems Analyst                      582\n",
      "Database Developer                            581\n",
      "Solutions Architect                           578\n",
      "Software Systems Engineer                     575\n",
      "Software Quality Assurance (QA) / Testing     571\n",
      "Web Developer                                 570\n",
      "Database Manager                              570\n",
      "CRM Technical Developer                       567\n",
      "Technical Support                             565\n",
      "Quality Assurance Associate                   565\n",
      "Data Architect                                564\n",
      "Systems Security Administrator                562\n",
      "Technical Services/Help Desk/Tech Support     558\n",
      "Information Technology Auditor                558\n",
      "Technical Engineer                            557\n",
      "Applications Developer                        551\n",
      "Systems Analyst                               550\n",
      "E-Commerce Analyst                            546\n",
      "Information Security Analyst                  543\n",
      "Business Intelligence Analyst                 540\n",
      "Mobile Applications Developer                 538\n",
      "Programmer Analyst                            529\n",
      "Name: count, dtype: int64\n"
     ]
    }
   ],
   "source": [
    "print(pd.Series(y).value_counts())"
   ]
  },
  {
   "cell_type": "code",
   "execution_count": null,
   "id": "c78bf55f-fb0c-497b-a730-9775d303cc8c",
   "metadata": {},
   "outputs": [],
   "source": []
  }
 ],
 "metadata": {
  "kernelspec": {
   "display_name": "Python 3 (ipykernel)",
   "language": "python",
   "name": "python3"
  },
  "language_info": {
   "codemirror_mode": {
    "name": "ipython",
    "version": 3
   },
   "file_extension": ".py",
   "mimetype": "text/x-python",
   "name": "python",
   "nbconvert_exporter": "python",
   "pygments_lexer": "ipython3",
   "version": "3.12.9"
  }
 },
 "nbformat": 4,
 "nbformat_minor": 5
}
