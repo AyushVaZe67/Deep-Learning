{
 "cells": [
  {
   "cell_type": "code",
   "execution_count": 3,
   "id": "05695058-f1f2-4b83-8b1c-286df6b5045d",
   "metadata": {},
   "outputs": [
    {
     "name": "stdout",
     "output_type": "stream",
     "text": [
      "Creating new Ultralytics Settings v0.0.6 file  \n",
      "View Ultralytics Settings with 'yolo settings' or at 'C:\\Users\\HP\\AppData\\Roaming\\Ultralytics\\settings.json'\n",
      "Update Settings with 'yolo settings key=value', i.e. 'yolo settings runs_dir=path/to/dir'. For help see https://docs.ultralytics.com/quickstart/#ultralytics-settings.\n",
      "Downloading https://github.com/ultralytics/assets/releases/download/v8.3.0/yolov8n.pt to 'yolov8n.pt'...\n"
     ]
    },
    {
     "name": "stderr",
     "output_type": "stream",
     "text": [
      "100%|█████████████████████████████████████████████████████████████████████████████| 6.25M/6.25M [00:00<00:00, 10.4MB/s]\n"
     ]
    }
   ],
   "source": [
    "import cv2\n",
    "from ultralytics import YOLO\n",
    "\n",
    "# Load YOLOv8 model (you can use yolov8n.pt or another version)\n",
    "model = YOLO(\"yolov8n.pt\")  # pre-trained on COCO\n",
    "\n",
    "# Open webcam\n",
    "cap = cv2.VideoCapture(0)\n",
    "\n",
    "prev_y = None\n",
    "\n",
    "while True:\n",
    "    ret, frame = cap.read()\n",
    "    if not ret:\n",
    "        break\n",
    "\n",
    "    # Run YOLO detection\n",
    "    results = model(frame, verbose=False)[0]\n",
    "\n",
    "    direction = \"\"\n",
    "    color = (255, 255, 0)  # default: yellow\n",
    "\n",
    "    for box in results.boxes:\n",
    "        class_id = int(box.cls[0])\n",
    "        class_name = model.names[class_id]\n",
    "\n",
    "        # Only track mobile phone (class name: \"cell phone\")\n",
    "        if class_name.lower() == \"cell phone\":\n",
    "            x1, y1, x2, y2 = map(int, box.xyxy[0])\n",
    "            center_y = (y1 + y2) // 2\n",
    "\n",
    "            if prev_y is not None:\n",
    "                if center_y < prev_y - 10:\n",
    "                    direction = \"Up\"\n",
    "                    color = (0, 255, 0)  # Green\n",
    "                elif center_y > prev_y + 10:\n",
    "                    direction = \"Down\"\n",
    "                    color = (0, 0, 255)  # Red\n",
    "\n",
    "            prev_y = center_y\n",
    "\n",
    "            # Draw bounding box and movement direction\n",
    "            cv2.rectangle(frame, (x1, y1), (x2, y2), color, 2)\n",
    "            cv2.putText(frame, f\"{class_name} moving {direction}\", (x1, y1 - 10),\n",
    "                        cv2.FONT_HERSHEY_SIMPLEX, 0.6, color, 2)\n",
    "            break  # only one phone\n",
    "\n",
    "    cv2.imshow(\"Mobile Phone Movement Detection\", frame)\n",
    "\n",
    "    if cv2.waitKey(1) & 0xFF == ord(\"q\"):\n",
    "        break\n",
    "\n",
    "cap.release()\n",
    "cv2.destroyAllWindows()"
   ]
  },
  {
   "cell_type": "code",
   "execution_count": null,
   "id": "2513701e-5b5b-499f-b815-621667cda360",
   "metadata": {},
   "outputs": [],
   "source": []
  }
 ],
 "metadata": {
  "kernelspec": {
   "display_name": "Python 3 (ipykernel)",
   "language": "python",
   "name": "python3"
  },
  "language_info": {
   "codemirror_mode": {
    "name": "ipython",
    "version": 3
   },
   "file_extension": ".py",
   "mimetype": "text/x-python",
   "name": "python",
   "nbconvert_exporter": "python",
   "pygments_lexer": "ipython3",
   "version": "3.12.9"
  }
 },
 "nbformat": 4,
 "nbformat_minor": 5
}
