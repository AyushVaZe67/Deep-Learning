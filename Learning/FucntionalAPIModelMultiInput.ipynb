{
 "cells": [
  {
   "cell_type": "code",
   "execution_count": 1,
   "id": "d860e227-9ecc-4803-bd42-655f8001f880",
   "metadata": {},
   "outputs": [],
   "source": [
    "from keras.models import Model\n",
    "from keras.layers import *"
   ]
  },
  {
   "cell_type": "code",
   "execution_count": 2,
   "id": "c79423cc-518a-445d-9f59-e4386921e810",
   "metadata": {},
   "outputs": [],
   "source": [
    "# define two sets of inputs\n",
    "inputA = Input(shape=(32,))\n",
    "inputB = Input(shape=(128,))"
   ]
  },
  {
   "cell_type": "code",
   "execution_count": 3,
   "id": "ce511940-1c12-480d-9e79-f96875cfe2a6",
   "metadata": {},
   "outputs": [],
   "source": [
    "# the first branch operates on the first input\n",
    "x = Dense(8, activation=\"relu\")(inputA)\n",
    "x1 = Dense(4, activation=\"relu\")(x)"
   ]
  },
  {
   "cell_type": "code",
   "execution_count": 4,
   "id": "27293167-c55f-4bd5-9811-da726a3c3d53",
   "metadata": {},
   "outputs": [],
   "source": [
    "# the second branch opreates on the second input\n",
    "y = Dense(64, activation=\"relu\")(inputB)\n",
    "y1 = Dense(32, activation=\"relu\")(y)\n",
    "y2 = Dense(4, activation=\"relu\")(y1)"
   ]
  },
  {
   "cell_type": "code",
   "execution_count": 5,
   "id": "d592c029-9954-4dcd-8893-185ac3ade978",
   "metadata": {},
   "outputs": [],
   "source": [
    "# combine the output of the two branches\n",
    "combined = concatenate([x1, y2])"
   ]
  },
  {
   "cell_type": "code",
   "execution_count": 6,
   "id": "536474d0-ddc2-4087-a2c4-1db1e437e73e",
   "metadata": {},
   "outputs": [],
   "source": [
    "# apply a FC layer and then a regression prediction on the\n",
    "# combined outputs\n",
    "z = Dense(2, activation=\"relu\")(combined)\n",
    "z1 = Dense(1, activation=\"linear\")(z)"
   ]
  },
  {
   "cell_type": "code",
   "execution_count": 7,
   "id": "d5d1f3d7-9a94-484d-a1b2-a8c09a804033",
   "metadata": {},
   "outputs": [],
   "source": [
    "# our model will accept the inputs of the two branches and\n",
    "# then output a single value\n",
    "model = Model(inputs=[inputA, inputB], outputs=z1)"
   ]
  },
  {
   "cell_type": "code",
   "execution_count": 8,
   "id": "bbb01c91-7be3-4476-b28a-b267cae0a58d",
   "metadata": {},
   "outputs": [
    {
     "name": "stdout",
     "output_type": "stream",
     "text": [
      "You must install graphviz (see instructions at https://graphviz.gitlab.io/download/) for `plot_model` to work.\n"
     ]
    }
   ],
   "source": [
    "from keras.utils import plot_model\n",
    "plot_model(model)"
   ]
  },
  {
   "cell_type": "code",
   "execution_count": null,
   "id": "444cb549-62b5-48e1-83cb-051e34386797",
   "metadata": {},
   "outputs": [],
   "source": []
  }
 ],
 "metadata": {
  "kernelspec": {
   "display_name": "Python 3 (ipykernel)",
   "language": "python",
   "name": "python3"
  },
  "language_info": {
   "codemirror_mode": {
    "name": "ipython",
    "version": 3
   },
   "file_extension": ".py",
   "mimetype": "text/x-python",
   "name": "python",
   "nbconvert_exporter": "python",
   "pygments_lexer": "ipython3",
   "version": "3.12.9"
  }
 },
 "nbformat": 4,
 "nbformat_minor": 5
}
