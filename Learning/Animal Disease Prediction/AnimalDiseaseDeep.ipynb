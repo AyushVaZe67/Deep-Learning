{
 "cells": [
  {
   "cell_type": "code",
   "execution_count": 131,
   "id": "c8072c36-e39d-4c38-bd58-e26560a0a6f4",
   "metadata": {},
   "outputs": [],
   "source": [
    "import tensorflow as tf\n",
    "from tensorflow import keras\n",
    "from keras import Sequential\n",
    "from keras.layers import Dense"
   ]
  },
  {
   "cell_type": "code",
   "execution_count": 155,
   "id": "3b4a1565-e130-49bc-b874-43c2e9c31ad8",
   "metadata": {},
   "outputs": [
    {
     "data": {
      "text/html": [
       "<div>\n",
       "<style scoped>\n",
       "    .dataframe tbody tr th:only-of-type {\n",
       "        vertical-align: middle;\n",
       "    }\n",
       "\n",
       "    .dataframe tbody tr th {\n",
       "        vertical-align: top;\n",
       "    }\n",
       "\n",
       "    .dataframe thead th {\n",
       "        text-align: right;\n",
       "    }\n",
       "</style>\n",
       "<table border=\"1\" class=\"dataframe\">\n",
       "  <thead>\n",
       "    <tr style=\"text-align: right;\">\n",
       "      <th></th>\n",
       "      <th>Symptom1</th>\n",
       "      <th>Symptom2</th>\n",
       "      <th>Symptom3</th>\n",
       "      <th>Disease</th>\n",
       "    </tr>\n",
       "  </thead>\n",
       "  <tbody>\n",
       "    <tr>\n",
       "      <th>0</th>\n",
       "      <td>Red eyes</td>\n",
       "      <td>Discharge</td>\n",
       "      <td>Watery eyes</td>\n",
       "      <td>Eye Infection</td>\n",
       "    </tr>\n",
       "    <tr>\n",
       "      <th>1</th>\n",
       "      <td>Itching</td>\n",
       "      <td>Red eyes</td>\n",
       "      <td>Red eyes</td>\n",
       "      <td>Skin Infection</td>\n",
       "    </tr>\n",
       "    <tr>\n",
       "      <th>2</th>\n",
       "      <td>Sneezing</td>\n",
       "      <td>Nasal discharge</td>\n",
       "      <td>Limping</td>\n",
       "      <td>Respiratory Infection</td>\n",
       "    </tr>\n",
       "    <tr>\n",
       "      <th>3</th>\n",
       "      <td>Watery eyes</td>\n",
       "      <td>Cough</td>\n",
       "      <td>Lethargy</td>\n",
       "      <td>Flu</td>\n",
       "    </tr>\n",
       "    <tr>\n",
       "      <th>4</th>\n",
       "      <td>Diarrhea</td>\n",
       "      <td>Dehydration</td>\n",
       "      <td>Fever</td>\n",
       "      <td>Parvovirus</td>\n",
       "    </tr>\n",
       "    <tr>\n",
       "      <th>...</th>\n",
       "      <td>...</td>\n",
       "      <td>...</td>\n",
       "      <td>...</td>\n",
       "      <td>...</td>\n",
       "    </tr>\n",
       "    <tr>\n",
       "      <th>95</th>\n",
       "      <td>Shivering</td>\n",
       "      <td>Sneezing</td>\n",
       "      <td>Rash</td>\n",
       "      <td>Allergy</td>\n",
       "    </tr>\n",
       "    <tr>\n",
       "      <th>96</th>\n",
       "      <td>Pain</td>\n",
       "      <td>Shivering</td>\n",
       "      <td>Lethargy</td>\n",
       "      <td>Arthritis</td>\n",
       "    </tr>\n",
       "    <tr>\n",
       "      <th>97</th>\n",
       "      <td>Pain</td>\n",
       "      <td>Shivering</td>\n",
       "      <td>Limping</td>\n",
       "      <td>Arthritis</td>\n",
       "    </tr>\n",
       "    <tr>\n",
       "      <th>98</th>\n",
       "      <td>Vomiting</td>\n",
       "      <td>Loss of appetite</td>\n",
       "      <td>Diarrhea</td>\n",
       "      <td>Food Poisoning</td>\n",
       "    </tr>\n",
       "    <tr>\n",
       "      <th>99</th>\n",
       "      <td>Itching</td>\n",
       "      <td>Shivering</td>\n",
       "      <td>Ear infection</td>\n",
       "      <td>Ear Mite Infestation</td>\n",
       "    </tr>\n",
       "  </tbody>\n",
       "</table>\n",
       "<p>100 rows × 4 columns</p>\n",
       "</div>"
      ],
      "text/plain": [
       "       Symptom1          Symptom2       Symptom3                Disease\n",
       "0      Red eyes         Discharge    Watery eyes          Eye Infection\n",
       "1       Itching          Red eyes       Red eyes         Skin Infection\n",
       "2      Sneezing   Nasal discharge        Limping  Respiratory Infection\n",
       "3   Watery eyes             Cough       Lethargy                    Flu\n",
       "4      Diarrhea       Dehydration          Fever             Parvovirus\n",
       "..          ...               ...            ...                    ...\n",
       "95    Shivering          Sneezing           Rash                Allergy\n",
       "96         Pain         Shivering       Lethargy              Arthritis\n",
       "97         Pain         Shivering        Limping              Arthritis\n",
       "98     Vomiting  Loss of appetite       Diarrhea         Food Poisoning\n",
       "99      Itching         Shivering  Ear infection   Ear Mite Infestation\n",
       "\n",
       "[100 rows x 4 columns]"
      ]
     },
     "execution_count": 155,
     "metadata": {},
     "output_type": "execute_result"
    }
   ],
   "source": [
    "import pandas as pd\n",
    "import random\n",
    "\n",
    "# Define symptom pool\n",
    "symptoms_pool = [\n",
    "    \"Fever\", \"Cough\", \"Loss of appetite\", \"Limping\", \"Swelling\", \"Pain\", \"Vomiting\",\n",
    "    \"Diarrhea\", \"Dehydration\", \"Rash\", \"Itching\", \"Sneezing\", \"Watery eyes\",\n",
    "    \"Lethargy\", \"Weight loss\", \"Bruising\", \"Hair loss\", \"Nasal discharge\",\n",
    "    \"Ear infection\", \"Excessive drooling\", \"Red eyes\", \"Shivering\", \"Anxiety\", \"Aggression\"\n",
    "]\n",
    "\n",
    "# Disease-symptom mapping (more realistic)\n",
    "disease_symptom_map = {\n",
    "    \"Flu\": [\"Fever\", \"Cough\", \"Sneezing\", \"Lethargy\", \"Watery eyes\"],\n",
    "    \"Leg Injury\": [\"Limping\", \"Swelling\", \"Pain\", \"Bruising\"],\n",
    "    \"Food Poisoning\": [\"Vomiting\", \"Diarrhea\", \"Dehydration\", \"Loss of appetite\"],\n",
    "    \"Skin Infection\": [\"Rash\", \"Itching\", \"Hair loss\", \"Red eyes\"],\n",
    "    \"Allergy\": [\"Itching\", \"Sneezing\", \"Watery eyes\", \"Rash\"],\n",
    "    \"Worm Infestation\": [\"Weight loss\", \"Vomiting\", \"Diarrhea\", \"Lethargy\"],\n",
    "    \"Respiratory Infection\": [\"Cough\", \"Nasal discharge\", \"Sneezing\", \"Fever\"],\n",
    "    \"Muscle Strain\": [\"Limping\", \"Pain\", \"Shivering\", \"Lethargy\"],\n",
    "    \"Eye Infection\": [\"Red eyes\", \"Watery eyes\", \"Discharge\", \"Lethargy\"],\n",
    "    \"Ear Mite Infestation\": [\"Ear infection\", \"Itching\", \"Aggression\", \"Shivering\"],\n",
    "    \"Dental Disease\": [\"Loss of appetite\", \"Excessive drooling\", \"Pain\", \"Aggression\"],\n",
    "    \"Parvovirus\": [\"Vomiting\", \"Diarrhea\", \"Dehydration\", \"Fever\"],\n",
    "    \"Arthritis\": [\"Limping\", \"Pain\", \"Lethargy\", \"Shivering\"]\n",
    "}\n",
    "\n",
    "# Generate 10,000 rows of more meaningful data\n",
    "data = []\n",
    "for _ in range(100):\n",
    "    disease = random.choice(list(disease_symptom_map.keys()))\n",
    "    core_symptoms = disease_symptom_map[disease]\n",
    "    \n",
    "    # Choose 2–4 core symptoms\n",
    "    chosen_symptoms = random.sample(core_symptoms, k=random.randint(2, min(4, len(core_symptoms))))\n",
    "    \n",
    "    # Add 0–1 noise symptoms (from unrelated symptoms)\n",
    "    noise_symptoms = list(set(symptoms_pool) - set(core_symptoms))\n",
    "    if random.random() < 0.3:  # 30% chance of adding noise\n",
    "        chosen_symptoms.append(random.choice(noise_symptoms))\n",
    "    \n",
    "    # Ensure 3 symptoms per row (pad if needed)\n",
    "    while len(chosen_symptoms) < 3:\n",
    "        chosen_symptoms.append(random.choice(core_symptoms))\n",
    "    random.shuffle(chosen_symptoms)\n",
    "    \n",
    "    # Add row\n",
    "    data.append(chosen_symptoms[:3] + [disease])\n",
    "\n",
    "# Create DataFrame\n",
    "df = pd.DataFrame(data, columns=[\"Symptom1\", \"Symptom2\", \"Symptom3\", \"Disease\"])\n",
    "df"
   ]
  },
  {
   "cell_type": "code",
   "execution_count": 156,
   "id": "3aa8663f-75ab-4f8e-a038-2b14405294e6",
   "metadata": {},
   "outputs": [
    {
     "data": {
      "text/plain": [
       "Disease\n",
       "Skin Infection           10\n",
       "Muscle Strain            10\n",
       "Ear Mite Infestation     10\n",
       "Respiratory Infection     9\n",
       "Dental Disease            9\n",
       "Leg Injury                9\n",
       "Food Poisoning            8\n",
       "Worm Infestation          8\n",
       "Flu                       7\n",
       "Eye Infection             6\n",
       "Parvovirus                5\n",
       "Allergy                   5\n",
       "Arthritis                 4\n",
       "Name: count, dtype: int64"
      ]
     },
     "execution_count": 156,
     "metadata": {},
     "output_type": "execute_result"
    }
   ],
   "source": [
    "df['Disease'].value_counts()"
   ]
  },
  {
   "cell_type": "code",
   "execution_count": 157,
   "id": "6fd42256-6d6d-4fd6-90b2-dff6654b0c52",
   "metadata": {},
   "outputs": [
    {
     "name": "stdout",
     "output_type": "stream",
     "text": [
      "<class 'pandas.core.frame.DataFrame'>\n",
      "RangeIndex: 100 entries, 0 to 99\n",
      "Data columns (total 4 columns):\n",
      " #   Column    Non-Null Count  Dtype \n",
      "---  ------    --------------  ----- \n",
      " 0   Symptom1  100 non-null    object\n",
      " 1   Symptom2  100 non-null    object\n",
      " 2   Symptom3  100 non-null    object\n",
      " 3   Disease   100 non-null    object\n",
      "dtypes: object(4)\n",
      "memory usage: 3.3+ KB\n"
     ]
    }
   ],
   "source": [
    "df.info()"
   ]
  },
  {
   "cell_type": "code",
   "execution_count": 158,
   "id": "6adc4da0-795a-4fc3-afd1-4d8bd563b258",
   "metadata": {},
   "outputs": [],
   "source": [
    "df_onehot = pd.get_dummies(df, columns=['Symptom1', 'Symptom2', 'Symptom3'])"
   ]
  },
  {
   "cell_type": "code",
   "execution_count": 159,
   "id": "e9debe0c-735d-457a-b616-e0ff70b8b014",
   "metadata": {},
   "outputs": [
    {
     "data": {
      "text/plain": [
       "(100, 73)"
      ]
     },
     "execution_count": 159,
     "metadata": {},
     "output_type": "execute_result"
    }
   ],
   "source": [
    "df_onehot.shape"
   ]
  },
  {
   "cell_type": "code",
   "execution_count": 172,
   "id": "ac100a20-ec17-4fe4-8b5d-a8e7c1e7583a",
   "metadata": {},
   "outputs": [],
   "source": [
    "X = df_onehot.drop(columns=['Disease']).astype('float32')\n",
    "y = df_onehot['Disease']"
   ]
  },
  {
   "cell_type": "code",
   "execution_count": 173,
   "id": "7cef5062-f762-4b28-947b-8dfad4254a54",
   "metadata": {},
   "outputs": [
    {
     "data": {
      "text/plain": [
       "(100, 72)"
      ]
     },
     "execution_count": 173,
     "metadata": {},
     "output_type": "execute_result"
    }
   ],
   "source": [
    "X.shape"
   ]
  },
  {
   "cell_type": "code",
   "execution_count": 174,
   "id": "8a133448-a998-4b00-bbbb-4bfd5d253bdb",
   "metadata": {},
   "outputs": [
    {
     "data": {
      "text/plain": [
       "(100,)"
      ]
     },
     "execution_count": 174,
     "metadata": {},
     "output_type": "execute_result"
    }
   ],
   "source": [
    "y.shape"
   ]
  },
  {
   "cell_type": "code",
   "execution_count": 183,
   "id": "59a1a18b-6548-4aab-8d5f-492707ae5be8",
   "metadata": {},
   "outputs": [],
   "source": [
    "from sklearn.model_selection import train_test_split\n",
    "\n",
    "# Convert features to float\n",
    "X = df_onehot.drop(columns=['Disease']).astype('float32')\n",
    "\n",
    "# Encode target (label encoding or one-hot)\n",
    "from sklearn.preprocessing import LabelEncoder\n",
    "le = LabelEncoder()\n",
    "y = le.fit_transform(df_onehot['Disease'])  # y will be integer labels\n",
    "\n",
    "# Split\n",
    "X_train, X_test, y_train, y_test = train_test_split(X, y, test_size=0.2, random_state=42)"
   ]
  },
  {
   "cell_type": "code",
   "execution_count": 184,
   "id": "97c52892-0710-4269-9678-a871817a8eb8",
   "metadata": {},
   "outputs": [
    {
     "name": "stdout",
     "output_type": "stream",
     "text": [
      "Number of classes: 13\n"
     ]
    }
   ],
   "source": [
    "import numpy as np\n",
    "\n",
    "num_classes = len(np.unique(y_train))  # y_train should be integers like 0,1,2,...\n",
    "print(\"Number of classes:\", num_classes)"
   ]
  },
  {
   "cell_type": "code",
   "execution_count": 185,
   "id": "e6879e2f-3c3a-463a-b390-296761f8e14f",
   "metadata": {},
   "outputs": [
    {
     "name": "stderr",
     "output_type": "stream",
     "text": [
      "C:\\Users\\HP\\Desktop\\sample_project_2\\env\\Lib\\site-packages\\keras\\src\\layers\\core\\dense.py:87: UserWarning: Do not pass an `input_shape`/`input_dim` argument to a layer. When using Sequential models, prefer using an `Input(shape)` object as the first layer in the model instead.\n",
      "  super().__init__(activity_regularizer=activity_regularizer, **kwargs)\n"
     ]
    }
   ],
   "source": [
    "model = Sequential()\n",
    "model.add(Dense(64, activation='relu', input_dim=72))   # Input layer (72 features)\n",
    "model.add(Dense(128, activation='relu'))                # Hidden layer\n",
    "model.add(Dense(num_classes, activation='softmax')) "
   ]
  },
  {
   "cell_type": "code",
   "execution_count": 186,
   "id": "5de50b44-6770-487d-bf5f-37ef53810356",
   "metadata": {},
   "outputs": [],
   "source": [
    "from tensorflow.keras.optimizers import Adam"
   ]
  },
  {
   "cell_type": "code",
   "execution_count": 187,
   "id": "a1be460f-9d2d-4c73-a67a-16294167eede",
   "metadata": {},
   "outputs": [],
   "source": [
    "optimizer = Adam(learning_rate=0.001)"
   ]
  },
  {
   "cell_type": "code",
   "execution_count": 188,
   "id": "abb4c7aa-7782-461c-9b19-74566d840a3b",
   "metadata": {},
   "outputs": [],
   "source": [
    "model.compile(optimizer=optimizer,\n",
    "              loss='sparse_categorical_crossentropy',  # Use this if labels are integers\n",
    "              metrics=['accuracy'])"
   ]
  },
  {
   "cell_type": "code",
   "execution_count": 189,
   "id": "75671989-bca2-4417-b3b8-363984f423aa",
   "metadata": {},
   "outputs": [
    {
     "name": "stdout",
     "output_type": "stream",
     "text": [
      "Symptom1_Aggression     float32\n",
      "Symptom1_Bruising       float32\n",
      "Symptom1_Cough          float32\n",
      "Symptom1_Dehydration    float32\n",
      "Symptom1_Diarrhea       float32\n",
      "                         ...   \n",
      "Symptom3_Sneezing       float32\n",
      "Symptom3_Swelling       float32\n",
      "Symptom3_Vomiting       float32\n",
      "Symptom3_Watery eyes    float32\n",
      "Symptom3_Weight loss    float32\n",
      "Length: 72, dtype: object\n"
     ]
    }
   ],
   "source": [
    "print(X_train.dtypes)  # Should show all float32 or int64"
   ]
  },
  {
   "cell_type": "code",
   "execution_count": 191,
   "id": "28cc1789-23d4-4436-9d37-657bf0a510d4",
   "metadata": {},
   "outputs": [
    {
     "data": {
      "text/plain": [
       "array([ 5, 11,  6,  7, 11,  8, 12,  1, 10, 12,  5, 12,  7,  3,  2,  3,  6,\n",
       "       10, 12,  8, 12, 10,  0,  0,  4,  4,  7, 11,  1,  3,  4,  5,  8,  9,\n",
       "        6,  9,  6,  0, 11,  2,  7,  3, 11,  6,  3,  8,  8,  1,  8,  1, 11,\n",
       "        5,  5,  0,  6, 10,  2,  9,  2,  3, 10, 12,  4,  7, 11,  9, 12, 10,\n",
       "        2,  0,  3,  7,  7, 10,  6,  5,  3,  8,  4,  3])"
      ]
     },
     "execution_count": 191,
     "metadata": {},
     "output_type": "execute_result"
    }
   ],
   "source": [
    "y_train"
   ]
  },
  {
   "cell_type": "code",
   "execution_count": 194,
   "id": "f4b33066-3d1c-4d8b-b7b6-13d60f97dece",
   "metadata": {},
   "outputs": [
    {
     "name": "stdout",
     "output_type": "stream",
     "text": [
      "Epoch 1/100\n",
      "\u001b[1m5/5\u001b[0m \u001b[32m━━━━━━━━━━━━━━━━━━━━\u001b[0m\u001b[37m\u001b[0m \u001b[1m0s\u001b[0m 24ms/step - accuracy: 0.8243 - loss: 1.2884 - val_accuracy: 0.5000 - val_loss: 1.8978\n",
      "Epoch 2/100\n",
      "\u001b[1m5/5\u001b[0m \u001b[32m━━━━━━━━━━━━━━━━━━━━\u001b[0m\u001b[37m\u001b[0m \u001b[1m0s\u001b[0m 19ms/step - accuracy: 0.8892 - loss: 1.1113 - val_accuracy: 0.5000 - val_loss: 1.8261\n",
      "Epoch 3/100\n",
      "\u001b[1m5/5\u001b[0m \u001b[32m━━━━━━━━━━━━━━━━━━━━\u001b[0m\u001b[37m\u001b[0m \u001b[1m0s\u001b[0m 20ms/step - accuracy: 0.8300 - loss: 1.0644 - val_accuracy: 0.5000 - val_loss: 1.7543\n",
      "Epoch 4/100\n",
      "\u001b[1m5/5\u001b[0m \u001b[32m━━━━━━━━━━━━━━━━━━━━\u001b[0m\u001b[37m\u001b[0m \u001b[1m0s\u001b[0m 18ms/step - accuracy: 0.8366 - loss: 0.9620 - val_accuracy: 0.5000 - val_loss: 1.6893\n",
      "Epoch 5/100\n",
      "\u001b[1m5/5\u001b[0m \u001b[32m━━━━━━━━━━━━━━━━━━━━\u001b[0m\u001b[37m\u001b[0m \u001b[1m0s\u001b[0m 18ms/step - accuracy: 0.8905 - loss: 0.7844 - val_accuracy: 0.5000 - val_loss: 1.6290\n",
      "Epoch 6/100\n",
      "\u001b[1m5/5\u001b[0m \u001b[32m━━━━━━━━━━━━━━━━━━━━\u001b[0m\u001b[37m\u001b[0m \u001b[1m0s\u001b[0m 18ms/step - accuracy: 0.9283 - loss: 0.6932 - val_accuracy: 0.5000 - val_loss: 1.5798\n",
      "Epoch 7/100\n",
      "\u001b[1m5/5\u001b[0m \u001b[32m━━━━━━━━━━━━━━━━━━━━\u001b[0m\u001b[37m\u001b[0m \u001b[1m0s\u001b[0m 19ms/step - accuracy: 0.9064 - loss: 0.6517 - val_accuracy: 0.5000 - val_loss: 1.5453\n",
      "Epoch 8/100\n",
      "\u001b[1m5/5\u001b[0m \u001b[32m━━━━━━━━━━━━━━━━━━━━\u001b[0m\u001b[37m\u001b[0m \u001b[1m0s\u001b[0m 19ms/step - accuracy: 0.9210 - loss: 0.5794 - val_accuracy: 0.5000 - val_loss: 1.5148\n",
      "Epoch 9/100\n",
      "\u001b[1m5/5\u001b[0m \u001b[32m━━━━━━━━━━━━━━━━━━━━\u001b[0m\u001b[37m\u001b[0m \u001b[1m0s\u001b[0m 20ms/step - accuracy: 0.9514 - loss: 0.4682 - val_accuracy: 0.5000 - val_loss: 1.4840\n",
      "Epoch 10/100\n",
      "\u001b[1m5/5\u001b[0m \u001b[32m━━━━━━━━━━━━━━━━━━━━\u001b[0m\u001b[37m\u001b[0m \u001b[1m0s\u001b[0m 18ms/step - accuracy: 0.9339 - loss: 0.4201 - val_accuracy: 0.5000 - val_loss: 1.4626\n",
      "Epoch 11/100\n",
      "\u001b[1m5/5\u001b[0m \u001b[32m━━━━━━━━━━━━━━━━━━━━\u001b[0m\u001b[37m\u001b[0m \u001b[1m0s\u001b[0m 18ms/step - accuracy: 0.9484 - loss: 0.4088 - val_accuracy: 0.5500 - val_loss: 1.4561\n",
      "Epoch 12/100\n",
      "\u001b[1m5/5\u001b[0m \u001b[32m━━━━━━━━━━━━━━━━━━━━\u001b[0m\u001b[37m\u001b[0m \u001b[1m0s\u001b[0m 18ms/step - accuracy: 0.9675 - loss: 0.3151 - val_accuracy: 0.5500 - val_loss: 1.4438\n",
      "Epoch 13/100\n",
      "\u001b[1m5/5\u001b[0m \u001b[32m━━━━━━━━━━━━━━━━━━━━\u001b[0m\u001b[37m\u001b[0m \u001b[1m0s\u001b[0m 18ms/step - accuracy: 0.9380 - loss: 0.3191 - val_accuracy: 0.5500 - val_loss: 1.4434\n",
      "Epoch 14/100\n",
      "\u001b[1m5/5\u001b[0m \u001b[32m━━━━━━━━━━━━━━━━━━━━\u001b[0m\u001b[37m\u001b[0m \u001b[1m0s\u001b[0m 18ms/step - accuracy: 0.9762 - loss: 0.2667 - val_accuracy: 0.5500 - val_loss: 1.4327\n",
      "Epoch 15/100\n",
      "\u001b[1m5/5\u001b[0m \u001b[32m━━━━━━━━━━━━━━━━━━━━\u001b[0m\u001b[37m\u001b[0m \u001b[1m0s\u001b[0m 19ms/step - accuracy: 0.9762 - loss: 0.2346 - val_accuracy: 0.5500 - val_loss: 1.4183\n",
      "Epoch 16/100\n",
      "\u001b[1m5/5\u001b[0m \u001b[32m━━━━━━━━━━━━━━━━━━━━\u001b[0m\u001b[37m\u001b[0m \u001b[1m0s\u001b[0m 19ms/step - accuracy: 0.9674 - loss: 0.2415 - val_accuracy: 0.5500 - val_loss: 1.4181\n",
      "Epoch 17/100\n",
      "\u001b[1m5/5\u001b[0m \u001b[32m━━━━━━━━━━━━━━━━━━━━\u001b[0m\u001b[37m\u001b[0m \u001b[1m0s\u001b[0m 19ms/step - accuracy: 0.9743 - loss: 0.1834 - val_accuracy: 0.5500 - val_loss: 1.4174\n",
      "Epoch 18/100\n",
      "\u001b[1m5/5\u001b[0m \u001b[32m━━━━━━━━━━━━━━━━━━━━\u001b[0m\u001b[37m\u001b[0m \u001b[1m0s\u001b[0m 20ms/step - accuracy: 0.9891 - loss: 0.1769 - val_accuracy: 0.5500 - val_loss: 1.4154\n",
      "Epoch 19/100\n",
      "\u001b[1m5/5\u001b[0m \u001b[32m━━━━━━━━━━━━━━━━━━━━\u001b[0m\u001b[37m\u001b[0m \u001b[1m0s\u001b[0m 18ms/step - accuracy: 0.9804 - loss: 0.1807 - val_accuracy: 0.5500 - val_loss: 1.4107\n",
      "Epoch 20/100\n",
      "\u001b[1m5/5\u001b[0m \u001b[32m━━━━━━━━━━━━━━━━━━━━\u001b[0m\u001b[37m\u001b[0m \u001b[1m0s\u001b[0m 18ms/step - accuracy: 0.9587 - loss: 0.1642 - val_accuracy: 0.5500 - val_loss: 1.4188\n",
      "Epoch 21/100\n",
      "\u001b[1m5/5\u001b[0m \u001b[32m━━━━━━━━━━━━━━━━━━━━\u001b[0m\u001b[37m\u001b[0m \u001b[1m0s\u001b[0m 18ms/step - accuracy: 0.9736 - loss: 0.1382 - val_accuracy: 0.5500 - val_loss: 1.4229\n",
      "Epoch 22/100\n",
      "\u001b[1m5/5\u001b[0m \u001b[32m━━━━━━━━━━━━━━━━━━━━\u001b[0m\u001b[37m\u001b[0m \u001b[1m0s\u001b[0m 19ms/step - accuracy: 0.9639 - loss: 0.1419 - val_accuracy: 0.5500 - val_loss: 1.4355\n",
      "Epoch 23/100\n",
      "\u001b[1m5/5\u001b[0m \u001b[32m━━━━━━━━━━━━━━━━━━━━\u001b[0m\u001b[37m\u001b[0m \u001b[1m0s\u001b[0m 18ms/step - accuracy: 0.9856 - loss: 0.1233 - val_accuracy: 0.5500 - val_loss: 1.4397\n",
      "Epoch 24/100\n",
      "\u001b[1m5/5\u001b[0m \u001b[32m━━━━━━━━━━━━━━━━━━━━\u001b[0m\u001b[37m\u001b[0m \u001b[1m0s\u001b[0m 19ms/step - accuracy: 0.9519 - loss: 0.1309 - val_accuracy: 0.5500 - val_loss: 1.4607\n",
      "Epoch 25/100\n",
      "\u001b[1m5/5\u001b[0m \u001b[32m━━━━━━━━━━━━━━━━━━━━\u001b[0m\u001b[37m\u001b[0m \u001b[1m0s\u001b[0m 19ms/step - accuracy: 0.9891 - loss: 0.0970 - val_accuracy: 0.5500 - val_loss: 1.4588\n",
      "Epoch 26/100\n",
      "\u001b[1m5/5\u001b[0m \u001b[32m━━━━━━━━━━━━━━━━━━━━\u001b[0m\u001b[37m\u001b[0m \u001b[1m0s\u001b[0m 18ms/step - accuracy: 0.9814 - loss: 0.0865 - val_accuracy: 0.5500 - val_loss: 1.4511\n",
      "Epoch 27/100\n",
      "\u001b[1m5/5\u001b[0m \u001b[32m━━━━━━━━━━━━━━━━━━━━\u001b[0m\u001b[37m\u001b[0m \u001b[1m0s\u001b[0m 18ms/step - accuracy: 0.9736 - loss: 0.0956 - val_accuracy: 0.5500 - val_loss: 1.4633\n",
      "Epoch 28/100\n",
      "\u001b[1m5/5\u001b[0m \u001b[32m━━━━━━━━━━━━━━━━━━━━\u001b[0m\u001b[37m\u001b[0m \u001b[1m0s\u001b[0m 19ms/step - accuracy: 0.9788 - loss: 0.0750 - val_accuracy: 0.5500 - val_loss: 1.4724\n",
      "Epoch 29/100\n",
      "\u001b[1m5/5\u001b[0m \u001b[32m━━━━━━━━━━━━━━━━━━━━\u001b[0m\u001b[37m\u001b[0m \u001b[1m0s\u001b[0m 21ms/step - accuracy: 0.9856 - loss: 0.0892 - val_accuracy: 0.5500 - val_loss: 1.4764\n",
      "Epoch 30/100\n",
      "\u001b[1m5/5\u001b[0m \u001b[32m━━━━━━━━━━━━━━━━━━━━\u001b[0m\u001b[37m\u001b[0m \u001b[1m0s\u001b[0m 18ms/step - accuracy: 0.9891 - loss: 0.0697 - val_accuracy: 0.5500 - val_loss: 1.4802\n",
      "Epoch 31/100\n",
      "\u001b[1m5/5\u001b[0m \u001b[32m━━━━━━━━━━━━━━━━━━━━\u001b[0m\u001b[37m\u001b[0m \u001b[1m0s\u001b[0m 23ms/step - accuracy: 0.9743 - loss: 0.0977 - val_accuracy: 0.5500 - val_loss: 1.4900\n",
      "Epoch 32/100\n",
      "\u001b[1m5/5\u001b[0m \u001b[32m━━━━━━━━━━━━━━━━━━━━\u001b[0m\u001b[37m\u001b[0m \u001b[1m0s\u001b[0m 18ms/step - accuracy: 0.9804 - loss: 0.0855 - val_accuracy: 0.5500 - val_loss: 1.4988\n",
      "Epoch 33/100\n",
      "\u001b[1m5/5\u001b[0m \u001b[32m━━━━━━━━━━━━━━━━━━━━\u001b[0m\u001b[37m\u001b[0m \u001b[1m0s\u001b[0m 18ms/step - accuracy: 0.9675 - loss: 0.0765 - val_accuracy: 0.5500 - val_loss: 1.5046\n",
      "Epoch 34/100\n",
      "\u001b[1m5/5\u001b[0m \u001b[32m━━━━━━━━━━━━━━━━━━━━\u001b[0m\u001b[37m\u001b[0m \u001b[1m0s\u001b[0m 19ms/step - accuracy: 0.9736 - loss: 0.0736 - val_accuracy: 0.5500 - val_loss: 1.5164\n",
      "Epoch 35/100\n",
      "\u001b[1m5/5\u001b[0m \u001b[32m━━━━━━━━━━━━━━━━━━━━\u001b[0m\u001b[37m\u001b[0m \u001b[1m0s\u001b[0m 19ms/step - accuracy: 0.9865 - loss: 0.0529 - val_accuracy: 0.5500 - val_loss: 1.5231\n",
      "Epoch 36/100\n",
      "\u001b[1m5/5\u001b[0m \u001b[32m━━━━━━━━━━━━━━━━━━━━\u001b[0m\u001b[37m\u001b[0m \u001b[1m0s\u001b[0m 19ms/step - accuracy: 0.9891 - loss: 0.0640 - val_accuracy: 0.5500 - val_loss: 1.5342\n",
      "Epoch 37/100\n",
      "\u001b[1m5/5\u001b[0m \u001b[32m━━━━━━━━━━━━━━━━━━━━\u001b[0m\u001b[37m\u001b[0m \u001b[1m0s\u001b[0m 20ms/step - accuracy: 0.9641 - loss: 0.0776 - val_accuracy: 0.5500 - val_loss: 1.5482\n",
      "Epoch 38/100\n",
      "\u001b[1m5/5\u001b[0m \u001b[32m━━━━━━━━━━━━━━━━━━━━\u001b[0m\u001b[37m\u001b[0m \u001b[1m0s\u001b[0m 20ms/step - accuracy: 0.9701 - loss: 0.0597 - val_accuracy: 0.5500 - val_loss: 1.5459\n",
      "Epoch 39/100\n",
      "\u001b[1m5/5\u001b[0m \u001b[32m━━━━━━━━━━━━━━━━━━━━\u001b[0m\u001b[37m\u001b[0m \u001b[1m0s\u001b[0m 21ms/step - accuracy: 0.9674 - loss: 0.0754 - val_accuracy: 0.5500 - val_loss: 1.5468\n",
      "Epoch 40/100\n",
      "\u001b[1m5/5\u001b[0m \u001b[32m━━━━━━━━━━━━━━━━━━━━\u001b[0m\u001b[37m\u001b[0m \u001b[1m0s\u001b[0m 18ms/step - accuracy: 0.9865 - loss: 0.0616 - val_accuracy: 0.5500 - val_loss: 1.5514\n",
      "Epoch 41/100\n",
      "\u001b[1m5/5\u001b[0m \u001b[32m━━━━━━━━━━━━━━━━━━━━\u001b[0m\u001b[37m\u001b[0m \u001b[1m0s\u001b[0m 18ms/step - accuracy: 0.9830 - loss: 0.0496 - val_accuracy: 0.5500 - val_loss: 1.5632\n",
      "Epoch 42/100\n",
      "\u001b[1m5/5\u001b[0m \u001b[32m━━━━━━━━━━━━━━━━━━━━\u001b[0m\u001b[37m\u001b[0m \u001b[1m0s\u001b[0m 17ms/step - accuracy: 0.9503 - loss: 0.0628 - val_accuracy: 0.5500 - val_loss: 1.5870\n",
      "Epoch 43/100\n",
      "\u001b[1m5/5\u001b[0m \u001b[32m━━━━━━━━━━━━━━━━━━━━\u001b[0m\u001b[37m\u001b[0m \u001b[1m0s\u001b[0m 17ms/step - accuracy: 0.9830 - loss: 0.0474 - val_accuracy: 0.5500 - val_loss: 1.5799\n",
      "Epoch 44/100\n",
      "\u001b[1m5/5\u001b[0m \u001b[32m━━━━━━━━━━━━━━━━━━━━\u001b[0m\u001b[37m\u001b[0m \u001b[1m0s\u001b[0m 19ms/step - accuracy: 0.9632 - loss: 0.0702 - val_accuracy: 0.5500 - val_loss: 1.5755\n",
      "Epoch 45/100\n",
      "\u001b[1m5/5\u001b[0m \u001b[32m━━━━━━━━━━━━━━━━━━━━\u001b[0m\u001b[37m\u001b[0m \u001b[1m0s\u001b[0m 21ms/step - accuracy: 0.9700 - loss: 0.0682 - val_accuracy: 0.5500 - val_loss: 1.5869\n",
      "Epoch 46/100\n",
      "\u001b[1m5/5\u001b[0m \u001b[32m━━━━━━━━━━━━━━━━━━━━\u001b[0m\u001b[37m\u001b[0m \u001b[1m0s\u001b[0m 19ms/step - accuracy: 0.9736 - loss: 0.0510 - val_accuracy: 0.5500 - val_loss: 1.6219\n",
      "Epoch 47/100\n",
      "\u001b[1m5/5\u001b[0m \u001b[32m━━━━━━━━━━━━━━━━━━━━\u001b[0m\u001b[37m\u001b[0m \u001b[1m0s\u001b[0m 18ms/step - accuracy: 0.9804 - loss: 0.0579 - val_accuracy: 0.5500 - val_loss: 1.6279\n",
      "Epoch 48/100\n",
      "\u001b[1m5/5\u001b[0m \u001b[32m━━━━━━━━━━━━━━━━━━━━\u001b[0m\u001b[37m\u001b[0m \u001b[1m0s\u001b[0m 19ms/step - accuracy: 0.9674 - loss: 0.0726 - val_accuracy: 0.5500 - val_loss: 1.6241\n",
      "Epoch 49/100\n",
      "\u001b[1m5/5\u001b[0m \u001b[32m━━━━━━━━━━━━━━━━━━━━\u001b[0m\u001b[37m\u001b[0m \u001b[1m0s\u001b[0m 20ms/step - accuracy: 0.9443 - loss: 0.0609 - val_accuracy: 0.5500 - val_loss: 1.6193\n",
      "Epoch 50/100\n",
      "\u001b[1m5/5\u001b[0m \u001b[32m━━━━━━━━━━━━━━━━━━━━\u001b[0m\u001b[37m\u001b[0m \u001b[1m0s\u001b[0m 20ms/step - accuracy: 0.9891 - loss: 0.0459 - val_accuracy: 0.5500 - val_loss: 1.6141\n",
      "Epoch 51/100\n",
      "\u001b[1m5/5\u001b[0m \u001b[32m━━━━━━━━━━━━━━━━━━━━\u001b[0m\u001b[37m\u001b[0m \u001b[1m0s\u001b[0m 17ms/step - accuracy: 0.9587 - loss: 0.0745 - val_accuracy: 0.5500 - val_loss: 1.6310\n",
      "Epoch 52/100\n",
      "\u001b[1m5/5\u001b[0m \u001b[32m━━━━━━━━━━━━━━━━━━━━\u001b[0m\u001b[37m\u001b[0m \u001b[1m0s\u001b[0m 17ms/step - accuracy: 0.9856 - loss: 0.0518 - val_accuracy: 0.5500 - val_loss: 1.6463\n",
      "Epoch 53/100\n",
      "\u001b[1m5/5\u001b[0m \u001b[32m━━━━━━━━━━━━━━━━━━━━\u001b[0m\u001b[37m\u001b[0m \u001b[1m0s\u001b[0m 31ms/step - accuracy: 0.9891 - loss: 0.0333 - val_accuracy: 0.5500 - val_loss: 1.6552\n",
      "Epoch 54/100\n",
      "\u001b[1m5/5\u001b[0m \u001b[32m━━━━━━━━━━━━━━━━━━━━\u001b[0m\u001b[37m\u001b[0m \u001b[1m0s\u001b[0m 18ms/step - accuracy: 0.9762 - loss: 0.0415 - val_accuracy: 0.5500 - val_loss: 1.6667\n",
      "Epoch 55/100\n",
      "\u001b[1m5/5\u001b[0m \u001b[32m━━━━━━━━━━━━━━━━━━━━\u001b[0m\u001b[37m\u001b[0m \u001b[1m0s\u001b[0m 18ms/step - accuracy: 0.9856 - loss: 0.0425 - val_accuracy: 0.5500 - val_loss: 1.6773\n",
      "Epoch 56/100\n",
      "\u001b[1m5/5\u001b[0m \u001b[32m━━━━━━━━━━━━━━━━━━━━\u001b[0m\u001b[37m\u001b[0m \u001b[1m0s\u001b[0m 19ms/step - accuracy: 0.9597 - loss: 0.0528 - val_accuracy: 0.5500 - val_loss: 1.6702\n",
      "Epoch 57/100\n",
      "\u001b[1m5/5\u001b[0m \u001b[32m━━━━━━━━━━━━━━━━━━━━\u001b[0m\u001b[37m\u001b[0m \u001b[1m0s\u001b[0m 19ms/step - accuracy: 0.9701 - loss: 0.0539 - val_accuracy: 0.5500 - val_loss: 1.6650\n",
      "Epoch 58/100\n",
      "\u001b[1m5/5\u001b[0m \u001b[32m━━━━━━━━━━━━━━━━━━━━\u001b[0m\u001b[37m\u001b[0m \u001b[1m0s\u001b[0m 19ms/step - accuracy: 0.9856 - loss: 0.0589 - val_accuracy: 0.5500 - val_loss: 1.6614\n",
      "Epoch 59/100\n",
      "\u001b[1m5/5\u001b[0m \u001b[32m━━━━━━━━━━━━━━━━━━━━\u001b[0m\u001b[37m\u001b[0m \u001b[1m0s\u001b[0m 20ms/step - accuracy: 0.9545 - loss: 0.0594 - val_accuracy: 0.5500 - val_loss: 1.6865\n",
      "Epoch 60/100\n",
      "\u001b[1m5/5\u001b[0m \u001b[32m━━━━━━━━━━━━━━━━━━━━\u001b[0m\u001b[37m\u001b[0m \u001b[1m0s\u001b[0m 20ms/step - accuracy: 0.9830 - loss: 0.0413 - val_accuracy: 0.5500 - val_loss: 1.6919\n",
      "Epoch 61/100\n",
      "\u001b[1m5/5\u001b[0m \u001b[32m━━━━━━━━━━━━━━━━━━━━\u001b[0m\u001b[37m\u001b[0m \u001b[1m0s\u001b[0m 18ms/step - accuracy: 0.9519 - loss: 0.0582 - val_accuracy: 0.5500 - val_loss: 1.6877\n",
      "Epoch 62/100\n",
      "\u001b[1m5/5\u001b[0m \u001b[32m━━━━━━━━━━━━━━━━━━━━\u001b[0m\u001b[37m\u001b[0m \u001b[1m0s\u001b[0m 19ms/step - accuracy: 0.9830 - loss: 0.0416 - val_accuracy: 0.5500 - val_loss: 1.6934\n",
      "Epoch 63/100\n",
      "\u001b[1m5/5\u001b[0m \u001b[32m━━━━━━━━━━━━━━━━━━━━\u001b[0m\u001b[37m\u001b[0m \u001b[1m0s\u001b[0m 19ms/step - accuracy: 0.9634 - loss: 0.0406 - val_accuracy: 0.5500 - val_loss: 1.7100\n",
      "Epoch 64/100\n",
      "\u001b[1m5/5\u001b[0m \u001b[32m━━━━━━━━━━━━━━━━━━━━\u001b[0m\u001b[37m\u001b[0m \u001b[1m0s\u001b[0m 19ms/step - accuracy: 0.9891 - loss: 0.0407 - val_accuracy: 0.5500 - val_loss: 1.7187\n",
      "Epoch 65/100\n",
      "\u001b[1m5/5\u001b[0m \u001b[32m━━━━━━━━━━━━━━━━━━━━\u001b[0m\u001b[37m\u001b[0m \u001b[1m0s\u001b[0m 18ms/step - accuracy: 0.9778 - loss: 0.0446 - val_accuracy: 0.5500 - val_loss: 1.7252\n",
      "Epoch 66/100\n",
      "\u001b[1m5/5\u001b[0m \u001b[32m━━━━━━━━━━━━━━━━━━━━\u001b[0m\u001b[37m\u001b[0m \u001b[1m0s\u001b[0m 22ms/step - accuracy: 0.9865 - loss: 0.0419 - val_accuracy: 0.5500 - val_loss: 1.7335\n",
      "Epoch 67/100\n",
      "\u001b[1m5/5\u001b[0m \u001b[32m━━━━━━━━━━━━━━━━━━━━\u001b[0m\u001b[37m\u001b[0m \u001b[1m0s\u001b[0m 18ms/step - accuracy: 0.9917 - loss: 0.0308 - val_accuracy: 0.5500 - val_loss: 1.7376\n",
      "Epoch 68/100\n",
      "\u001b[1m5/5\u001b[0m \u001b[32m━━━━━━━━━━━━━━━━━━━━\u001b[0m\u001b[37m\u001b[0m \u001b[1m0s\u001b[0m 21ms/step - accuracy: 0.9639 - loss: 0.0655 - val_accuracy: 0.5500 - val_loss: 1.7202\n",
      "Epoch 69/100\n",
      "\u001b[1m5/5\u001b[0m \u001b[32m━━━━━━━━━━━━━━━━━━━━\u001b[0m\u001b[37m\u001b[0m \u001b[1m0s\u001b[0m 20ms/step - accuracy: 0.9736 - loss: 0.0474 - val_accuracy: 0.5500 - val_loss: 1.7107\n",
      "Epoch 70/100\n",
      "\u001b[1m5/5\u001b[0m \u001b[32m━━━━━━━━━━━━━━━━━━━━\u001b[0m\u001b[37m\u001b[0m \u001b[1m0s\u001b[0m 22ms/step - accuracy: 0.9804 - loss: 0.0385 - val_accuracy: 0.5500 - val_loss: 1.7245\n",
      "Epoch 71/100\n",
      "\u001b[1m5/5\u001b[0m \u001b[32m━━━━━━━━━━━━━━━━━━━━\u001b[0m\u001b[37m\u001b[0m \u001b[1m0s\u001b[0m 24ms/step - accuracy: 0.9632 - loss: 0.0546 - val_accuracy: 0.5500 - val_loss: 1.7516\n",
      "Epoch 72/100\n",
      "\u001b[1m5/5\u001b[0m \u001b[32m━━━━━━━━━━━━━━━━━━━━\u001b[0m\u001b[37m\u001b[0m \u001b[1m0s\u001b[0m 22ms/step - accuracy: 0.9814 - loss: 0.0254 - val_accuracy: 0.5500 - val_loss: 1.7653\n",
      "Epoch 73/100\n",
      "\u001b[1m5/5\u001b[0m \u001b[32m━━━━━━━━━━━━━━━━━━━━\u001b[0m\u001b[37m\u001b[0m \u001b[1m0s\u001b[0m 19ms/step - accuracy: 0.9804 - loss: 0.0452 - val_accuracy: 0.5500 - val_loss: 1.7620\n",
      "Epoch 74/100\n",
      "\u001b[1m5/5\u001b[0m \u001b[32m━━━━━━━━━━━━━━━━━━━━\u001b[0m\u001b[37m\u001b[0m \u001b[1m0s\u001b[0m 18ms/step - accuracy: 0.9743 - loss: 0.0535 - val_accuracy: 0.5500 - val_loss: 1.7655\n",
      "Epoch 75/100\n",
      "\u001b[1m5/5\u001b[0m \u001b[32m━━━━━━━━━━━━━━━━━━━━\u001b[0m\u001b[37m\u001b[0m \u001b[1m0s\u001b[0m 18ms/step - accuracy: 0.9736 - loss: 0.0342 - val_accuracy: 0.5500 - val_loss: 1.7753\n",
      "Epoch 76/100\n",
      "\u001b[1m5/5\u001b[0m \u001b[32m━━━━━━━━━━━━━━━━━━━━\u001b[0m\u001b[37m\u001b[0m \u001b[1m0s\u001b[0m 18ms/step - accuracy: 0.9804 - loss: 0.0470 - val_accuracy: 0.5500 - val_loss: 1.7783\n",
      "Epoch 77/100\n",
      "\u001b[1m5/5\u001b[0m \u001b[32m━━━━━━━━━━━━━━━━━━━━\u001b[0m\u001b[37m\u001b[0m \u001b[1m0s\u001b[0m 18ms/step - accuracy: 0.9830 - loss: 0.0419 - val_accuracy: 0.5500 - val_loss: 1.7698\n",
      "Epoch 78/100\n",
      "\u001b[1m5/5\u001b[0m \u001b[32m━━━━━━━━━━━━━━━━━━━━\u001b[0m\u001b[37m\u001b[0m \u001b[1m0s\u001b[0m 25ms/step - accuracy: 0.9891 - loss: 0.0343 - val_accuracy: 0.5500 - val_loss: 1.7652\n",
      "Epoch 79/100\n",
      "\u001b[1m5/5\u001b[0m \u001b[32m━━━━━━━━━━━━━━━━━━━━\u001b[0m\u001b[37m\u001b[0m \u001b[1m0s\u001b[0m 21ms/step - accuracy: 0.9399 - loss: 0.0574 - val_accuracy: 0.5500 - val_loss: 1.7805\n",
      "Epoch 80/100\n",
      "\u001b[1m5/5\u001b[0m \u001b[32m━━━━━━━━━━━━━━━━━━━━\u001b[0m\u001b[37m\u001b[0m \u001b[1m0s\u001b[0m 21ms/step - accuracy: 0.9623 - loss: 0.0460 - val_accuracy: 0.5500 - val_loss: 1.7711\n",
      "Epoch 81/100\n",
      "\u001b[1m5/5\u001b[0m \u001b[32m━━━━━━━━━━━━━━━━━━━━\u001b[0m\u001b[37m\u001b[0m \u001b[1m0s\u001b[0m 20ms/step - accuracy: 0.9830 - loss: 0.0471 - val_accuracy: 0.5500 - val_loss: 1.7739\n",
      "Epoch 82/100\n",
      "\u001b[1m5/5\u001b[0m \u001b[32m━━━━━━━━━━━━━━━━━━━━\u001b[0m\u001b[37m\u001b[0m \u001b[1m0s\u001b[0m 17ms/step - accuracy: 0.9503 - loss: 0.0477 - val_accuracy: 0.5500 - val_loss: 1.8057\n",
      "Epoch 83/100\n",
      "\u001b[1m5/5\u001b[0m \u001b[32m━━━━━━━━━━━━━━━━━━━━\u001b[0m\u001b[37m\u001b[0m \u001b[1m0s\u001b[0m 17ms/step - accuracy: 0.9571 - loss: 0.0498 - val_accuracy: 0.5500 - val_loss: 1.8044\n",
      "Epoch 84/100\n",
      "\u001b[1m5/5\u001b[0m \u001b[32m━━━━━━━━━━━━━━━━━━━━\u001b[0m\u001b[37m\u001b[0m \u001b[1m0s\u001b[0m 16ms/step - accuracy: 0.9804 - loss: 0.0476 - val_accuracy: 0.5500 - val_loss: 1.8129\n",
      "Epoch 85/100\n",
      "\u001b[1m5/5\u001b[0m \u001b[32m━━━━━━━━━━━━━━━━━━━━\u001b[0m\u001b[37m\u001b[0m \u001b[1m0s\u001b[0m 16ms/step - accuracy: 0.9597 - loss: 0.0417 - val_accuracy: 0.5500 - val_loss: 1.7911\n",
      "Epoch 86/100\n",
      "\u001b[1m5/5\u001b[0m \u001b[32m━━━━━━━━━━━━━━━━━━━━\u001b[0m\u001b[37m\u001b[0m \u001b[1m0s\u001b[0m 16ms/step - accuracy: 0.9675 - loss: 0.0352 - val_accuracy: 0.5500 - val_loss: 1.7944\n",
      "Epoch 87/100\n",
      "\u001b[1m5/5\u001b[0m \u001b[32m━━━━━━━━━━━━━━━━━━━━\u001b[0m\u001b[37m\u001b[0m \u001b[1m0s\u001b[0m 16ms/step - accuracy: 0.9788 - loss: 0.0396 - val_accuracy: 0.5500 - val_loss: 1.7917\n",
      "Epoch 88/100\n",
      "\u001b[1m5/5\u001b[0m \u001b[32m━━━━━━━━━━━━━━━━━━━━\u001b[0m\u001b[37m\u001b[0m \u001b[1m0s\u001b[0m 16ms/step - accuracy: 0.9762 - loss: 0.0297 - val_accuracy: 0.5500 - val_loss: 1.8014\n",
      "Epoch 89/100\n",
      "\u001b[1m5/5\u001b[0m \u001b[32m━━━━━━━━━━━━━━━━━━━━\u001b[0m\u001b[37m\u001b[0m \u001b[1m0s\u001b[0m 20ms/step - accuracy: 0.9788 - loss: 0.0387 - val_accuracy: 0.5500 - val_loss: 1.8242\n",
      "Epoch 90/100\n",
      "\u001b[1m5/5\u001b[0m \u001b[32m━━━━━━━━━━━━━━━━━━━━\u001b[0m\u001b[37m\u001b[0m \u001b[1m0s\u001b[0m 15ms/step - accuracy: 0.9865 - loss: 0.0359 - val_accuracy: 0.5500 - val_loss: 1.8294\n",
      "Epoch 91/100\n",
      "\u001b[1m5/5\u001b[0m \u001b[32m━━━━━━━━━━━━━━━━━━━━\u001b[0m\u001b[37m\u001b[0m \u001b[1m0s\u001b[0m 18ms/step - accuracy: 0.9701 - loss: 0.0391 - val_accuracy: 0.5500 - val_loss: 1.8389\n",
      "Epoch 92/100\n",
      "\u001b[1m5/5\u001b[0m \u001b[32m━━━━━━━━━━━━━━━━━━━━\u001b[0m\u001b[37m\u001b[0m \u001b[1m0s\u001b[0m 18ms/step - accuracy: 0.9865 - loss: 0.0390 - val_accuracy: 0.5500 - val_loss: 1.8402\n",
      "Epoch 93/100\n",
      "\u001b[1m5/5\u001b[0m \u001b[32m━━━━━━━━━━━━━━━━━━━━\u001b[0m\u001b[37m\u001b[0m \u001b[1m0s\u001b[0m 18ms/step - accuracy: 0.9891 - loss: 0.0247 - val_accuracy: 0.5500 - val_loss: 1.8367\n",
      "Epoch 94/100\n",
      "\u001b[1m5/5\u001b[0m \u001b[32m━━━━━━━━━━━━━━━━━━━━\u001b[0m\u001b[37m\u001b[0m \u001b[1m0s\u001b[0m 21ms/step - accuracy: 0.9736 - loss: 0.0311 - val_accuracy: 0.5500 - val_loss: 1.8258\n",
      "Epoch 95/100\n",
      "\u001b[1m5/5\u001b[0m \u001b[32m━━━━━━━━━━━━━━━━━━━━\u001b[0m\u001b[37m\u001b[0m \u001b[1m0s\u001b[0m 17ms/step - accuracy: 0.9632 - loss: 0.0361 - val_accuracy: 0.5500 - val_loss: 1.8440\n",
      "Epoch 96/100\n",
      "\u001b[1m5/5\u001b[0m \u001b[32m━━━━━━━━━━━━━━━━━━━━\u001b[0m\u001b[37m\u001b[0m \u001b[1m0s\u001b[0m 18ms/step - accuracy: 0.9830 - loss: 0.0414 - val_accuracy: 0.5500 - val_loss: 1.8477\n",
      "Epoch 97/100\n",
      "\u001b[1m5/5\u001b[0m \u001b[32m━━━━━━━━━━━━━━━━━━━━\u001b[0m\u001b[37m\u001b[0m \u001b[1m0s\u001b[0m 19ms/step - accuracy: 0.9891 - loss: 0.0245 - val_accuracy: 0.5500 - val_loss: 1.8416\n",
      "Epoch 98/100\n",
      "\u001b[1m5/5\u001b[0m \u001b[32m━━━━━━━━━━━━━━━━━━━━\u001b[0m\u001b[37m\u001b[0m \u001b[1m0s\u001b[0m 18ms/step - accuracy: 0.9736 - loss: 0.0309 - val_accuracy: 0.5500 - val_loss: 1.8418\n",
      "Epoch 99/100\n",
      "\u001b[1m5/5\u001b[0m \u001b[32m━━━━━━━━━━━━━━━━━━━━\u001b[0m\u001b[37m\u001b[0m \u001b[1m0s\u001b[0m 18ms/step - accuracy: 0.9597 - loss: 0.0407 - val_accuracy: 0.5500 - val_loss: 1.8531\n",
      "Epoch 100/100\n",
      "\u001b[1m5/5\u001b[0m \u001b[32m━━━━━━━━━━━━━━━━━━━━\u001b[0m\u001b[37m\u001b[0m \u001b[1m0s\u001b[0m 16ms/step - accuracy: 0.9571 - loss: 0.0443 - val_accuracy: 0.5500 - val_loss: 1.8383\n"
     ]
    }
   ],
   "source": [
    "# Train the model and save the training history\n",
    "history = model.fit(X_train, y_train, epochs=100, batch_size=16, validation_data=(X_test, y_test))"
   ]
  },
  {
   "cell_type": "code",
   "execution_count": 195,
   "id": "59b58096-06a1-492a-8131-959a6baaf361",
   "metadata": {},
   "outputs": [
    {
     "data": {
      "image/png": "[encoded data removed]",
      "text/plain": [
       "<Figure size 1200x500 with 2 Axes>"
      ]
     },
     "metadata": {},
     "output_type": "display_data"
    }
   ],
   "source": [
    "import matplotlib.pyplot as plt\n",
    "\n",
    "# Plot Accuracy\n",
    "plt.figure(figsize=(12, 5))\n",
    "\n",
    "plt.subplot(1, 2, 1)\n",
    "plt.plot(history.history['accuracy'], label='Train Accuracy', marker='o')\n",
    "plt.plot(history.history['val_accuracy'], label='Validation Accuracy', marker='o')\n",
    "plt.title('Accuracy Over Epochs')\n",
    "plt.xlabel('Epochs')\n",
    "plt.ylabel('Accuracy')\n",
    "plt.legend()\n",
    "plt.grid(True)\n",
    "\n",
    "# Plot Loss\n",
    "plt.subplot(1, 2, 2)\n",
    "plt.plot(history.history['loss'], label='Train Loss', marker='o')\n",
    "plt.plot(history.history['val_loss'], label='Validation Loss', marker='o')\n",
    "plt.title('Loss Over Epochs')\n",
    "plt.xlabel('Epochs')\n",
    "plt.ylabel('Loss')\n",
    "plt.legend()\n",
    "plt.grid(True)\n",
    "\n",
    "plt.tight_layout()\n",
    "plt.show()"
   ]
  },
  {
   "cell_type": "code",
   "execution_count": null,
   "id": "8c4ea6ac-b0d8-4aa8-be61-62d68c95b880",
   "metadata": {},
   "outputs": [],
   "source": []
  }
 ],
 "metadata": {
  "kernelspec": {
   "display_name": "Python 3 (ipykernel)",
   "language": "python",
   "name": "python3"
  },
  "language_info": {
   "codemirror_mode": {
    "name": "ipython",
    "version": 3
   },
   "file_extension": ".py",
   "mimetype": "text/x-python",
   "name": "python",
   "nbconvert_exporter": "python",
   "pygments_lexer": "ipython3",
   "version": "3.12.9"
  }
 },
 "nbformat": 4,
 "nbformat_minor": 5
}
