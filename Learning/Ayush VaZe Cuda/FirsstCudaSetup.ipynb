{
 "cells": [
  {
   "cell_type": "code",
   "execution_count": 5,
   "id": "33e85038-7665-4f9e-86d1-1aaee36088d0",
   "metadata": {},
   "outputs": [
    {
     "name": "stdout",
     "output_type": "stream",
     "text": [
      "CUDA Available: True\n",
      "GPU Name: NVIDIA GeForce GTX 1650\n"
     ]
    }
   ],
   "source": [
    "import torch\n",
    "print(\"CUDA Available:\", torch.cuda.is_available())\n",
    "if torch.cuda.is_available():\n",
    "    print(\"GPU Name:\", torch.cuda.get_device_name(0))"
   ]
  },
  {
   "cell_type": "code",
   "execution_count": 7,
   "id": "b190c10f-14dd-4e8b-aaaf-1887308f94e9",
   "metadata": {},
   "outputs": [
    {
     "name": "stdout",
     "output_type": "stream",
     "text": [
      "Using device: cuda\n"
     ]
    }
   ],
   "source": [
    "import torch\n",
    "import time\n",
    "\n",
    "device = torch.device(\"cuda\" if torch.cuda.is_available() else \"cpu\")\n",
    "print(\"Using device:\", device)"
   ]
  },
  {
   "cell_type": "code",
   "execution_count": 9,
   "id": "53989651-435a-40ed-ac90-92585c1004fd",
   "metadata": {},
   "outputs": [
    {
     "name": "stdout",
     "output_type": "stream",
     "text": [
      "Matrix multiplication time: 0.453662633895874 seconds\n"
     ]
    }
   ],
   "source": [
    "x = torch.rand(5000, 5000).to(device)\n",
    "y = torch.rand(5000, 5000).to(device)\n",
    "\n",
    "# Time the matrix multiplication\n",
    "start = time.time()\n",
    "z = torch.mm(x, y)\n",
    "torch.cuda.synchronize() if device.type == \"cuda\" else None  # Wait for GPU if used\n",
    "end = time.time()\n",
    "\n",
    "print(\"Matrix multiplication time:\", end - start, \"seconds\")"
   ]
  },
  {
   "cell_type": "code",
   "execution_count": null,
   "id": "1b522181-fc8e-4cb2-a13b-5a69f03eef69",
   "metadata": {},
   "outputs": [],
   "source": []
  }
 ],
 "metadata": {
  "kernelspec": {
   "display_name": "Python 3 (ipykernel)",
   "language": "python",
   "name": "python3"
  },
  "language_info": {
   "codemirror_mode": {
    "name": "ipython",
    "version": 3
   },
   "file_extension": ".py",
   "mimetype": "text/x-python",
   "name": "python",
   "nbconvert_exporter": "python",
   "pygments_lexer": "ipython3",
   "version": "3.9.18"
  }
 },
 "nbformat": 4,
 "nbformat_minor": 5
}
